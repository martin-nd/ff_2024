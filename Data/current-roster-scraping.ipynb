{
 "cells": [
  {
   "cell_type": "code",
   "id": "initial_id",
   "metadata": {
    "collapsed": true,
    "ExecuteTime": {
     "end_time": "2024-08-27T04:35:24.071910Z",
     "start_time": "2024-08-27T04:35:23.604047Z"
    }
   },
   "source": [
    "# import pandas as pd\n",
    "import nfl_data_py as nfl"
   ],
   "outputs": [],
   "execution_count": 2
  },
  {
   "metadata": {},
   "cell_type": "markdown",
   "source": "https://github.com/nflverse/nfl_data_py/issues/95",
   "id": "f7835cd0e9e6e643"
  },
  {
   "metadata": {
    "ExecuteTime": {
     "end_time": "2024-08-27T04:37:42.129850Z",
     "start_time": "2024-08-27T04:37:36.241947Z"
    }
   },
   "cell_type": "code",
   "source": [
    "(nfl.import_seasonal_rosters([2018,2019,2020,2021,2022,2023])[['season',\n",
    "                                                               'team',\n",
    "                                                               'position',\n",
    "                                                               'player_id']].to_csv('2018-2023_rosters.csv'))\n",
    "\n",
    "(nfl.import_seasonal_rosters([2024])[['season',\n",
    "                                      'team',\n",
    "                                      'position',\n",
    "                                      'player_id']].to_csv('current_roster.csv'))"
   ],
   "id": "41e6f6dd3c476487",
   "outputs": [],
   "execution_count": 3
  },
  {
   "metadata": {},
   "cell_type": "code",
   "outputs": [],
   "execution_count": null,
   "source": "",
   "id": "ba3a8062833c2c1c"
  }
 ],
 "metadata": {
  "kernelspec": {
   "display_name": "Python 3",
   "language": "python",
   "name": "python3"
  },
  "language_info": {
   "codemirror_mode": {
    "name": "ipython",
    "version": 2
   },
   "file_extension": ".py",
   "mimetype": "text/x-python",
   "name": "python",
   "nbconvert_exporter": "python",
   "pygments_lexer": "ipython2",
   "version": "2.7.6"
  }
 },
 "nbformat": 4,
 "nbformat_minor": 5
}
