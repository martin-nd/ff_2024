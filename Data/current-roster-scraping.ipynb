{
 "cells": [
  {
   "cell_type": "code",
   "id": "initial_id",
   "metadata": {
    "collapsed": true,
    "ExecuteTime": {
     "end_time": "2024-08-27T04:24:15.287450Z",
     "start_time": "2024-08-27T04:24:15.284493Z"
    }
   },
   "source": [
    "# import pandas as pd\n",
    "import nfl_data_py as nfl"
   ],
   "outputs": [],
   "execution_count": 8
  },
  {
   "metadata": {
    "ExecuteTime": {
     "end_time": "2024-08-27T04:24:20.916621Z",
     "start_time": "2024-08-27T04:24:15.907333Z"
    }
   },
   "cell_type": "code",
   "source": [
    "prev_szns = nfl.import_seasonal_rosters([2018,2019,2020,2021,2022,2023])[['season',\n",
    "                                                                          'team',\n",
    "                                                                          'position',\n",
    "                                                                           'player_id']].drop_duplicates()"
   ],
   "id": "e2ae270cc431e40a",
   "outputs": [],
   "execution_count": 9
  },
  {
   "metadata": {
    "ExecuteTime": {
     "end_time": "2024-08-27T04:24:21.550420Z",
     "start_time": "2024-08-27T04:24:20.919945Z"
    }
   },
   "cell_type": "code",
   "source": [
    "current_season = nfl.import_seasonal_rosters([2024])[['season',\n",
    "                                                      'team',\n",
    "                                                      'position',\n",
    "                                                      'player_id']].drop_duplicates()"
   ],
   "id": "b3ba1c4723d5d305",
   "outputs": [],
   "execution_count": 10
  },
  {
   "metadata": {
    "ExecuteTime": {
     "end_time": "2024-08-27T04:25:38.736190Z",
     "start_time": "2024-08-27T04:25:38.703173Z"
    }
   },
   "cell_type": "code",
   "source": [
    "prev_szns.to_csv('2018-2023_rosters.csv')\n",
    "current_season.to_csv('current_roster.csv')"
   ],
   "id": "c6d26f094c15b70d",
   "outputs": [],
   "execution_count": 13
  },
  {
   "metadata": {},
   "cell_type": "code",
   "outputs": [],
   "execution_count": null,
   "source": "",
   "id": "eabb5febd1b2c893"
  }
 ],
 "metadata": {
  "kernelspec": {
   "display_name": "Python 3",
   "language": "python",
   "name": "python3"
  },
  "language_info": {
   "codemirror_mode": {
    "name": "ipython",
    "version": 2
   },
   "file_extension": ".py",
   "mimetype": "text/x-python",
   "name": "python",
   "nbconvert_exporter": "python",
   "pygments_lexer": "ipython2",
   "version": "2.7.6"
  }
 },
 "nbformat": 4,
 "nbformat_minor": 5
}
